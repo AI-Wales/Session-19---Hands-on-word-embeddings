{
 "cells": [
  {
   "cell_type": "markdown",
   "metadata": {},
   "source": [
    "# Hands on Embeddings - implementing word2vec using Gensim "
   ]
  },
  {
   "cell_type": "markdown",
   "metadata": {},
   "source": [
    "Word2vec is a popular technique to learn word embeddings. It uses a two-layer neural network. Its input is a text corpus and its output is a set of vectors. Word embedding via word2vec can make natural language computer-readable, then further implementation of mathematical operations on words can be used to detect their similarities. A well-trained set of word vectors will place similar words close to each other in that space. For instance, the words women, men and human might cluster in one corner, while yellow, red and blue cluster together in another.\n",
    "\n",
    "Word2Vec was introduced in two papers between September and October 2013, by a team of researchers at Google. Along with the papers, the researchers published their implementation in C. The Python implementation was done soon after the 1st paper, by Gensim.\n",
    "\n",
    "The underlying assumption of Word2Vec is that two words sharing similar contexts also share a similar meaning and consequently a similar vector representation from the model. For instance: \"dog\", \"puppy\" and \"pup\" are often used in similar situations, with similar surrounding words like \"good\", \"fluffy\" or \"cute\", and according to Word2Vec they will therefore share a similar vector representation.\n",
    "\n",
    "From this assumption, Word2Vec can be used to find out the relations between words in a dataset, compute the similarity between them, or use the vector representation of those words as input for other applications such as text classification or clustering."
   ]
  },
  {
   "cell_type": "markdown",
   "metadata": {},
   "source": [
    "There are two main training algorithms for word2vec, one is the continuous bag of words(CBOW), another is called skip-gram. The major difference between these two methods is that CBOW is using context to predict a target word while skip-gram is using a word to predict a target context. Generally, the skip-gram method can have a better performance compared with CBOW method, for it can capture two semantics for a single word. For instance, it will have two vector representations for Apple, one for the company and another for the fruit.\n",
    "\n",
    "The secret to getting Word2Vec really working for you is to have lots and lots of text data in the relevant domain. For example, if your goal is to build a sentiment lexicon, then using a dataset from the medical domain or even Wikipedia may not be effective. So the choice of dataset and application is important. Here we choose a failry small text, but ideally you will need much more data!"
   ]
  },
  {
   "cell_type": "markdown",
   "metadata": {},
   "source": [
    "### word2vec using Gensim \n",
    "\n",
    "In this example we use the Gensim implementation of word2vec: https://radimrehurek.com/gensim/models/word2vec.html\n",
    "        \n",
    "Gensim is an open-source library for unsupervised topic modeling and natural language processing, using modern statistical machine learning. Gensim is implemented in Python and Cython.\n",
    "\n",
    "In this example we take a text document and clean it and then train a word2vec model. Specifically, each sentence must be tokenized, meaning divided into words and prepared (e.g. perhaps pre-filtered and perhaps converted to a preferred case). Learning a word embedding from text involves loading and organizing the text into sentences and providing them to the constructor of a new Word2Vec() instance. \n",
    "\n",
    "We will load the text into memory, but an iterator that progressively loads text would be required for very large text corpora.\n",
    "\n",
    "We will then take the model and use it to look a similarity and try to visulise the vectors. \n",
    "\n",
    "### Order of tasks\n",
    "\n",
    "As with most NLP tasks, it steh preparing of the data that tasks most of the time! Training a model in Gensim is straightforward. However we will work through a number of pre-processing steps so we at least start to feel like a real example. The order we will do things is:\n",
    "\n",
    "1. load the text\n",
    "2. clean the text at at top level., e.g, split into chapters and remove any surplus introduction and end text \n",
    "3. split each chapter into sentences\n",
    "4. preprocess and tokenise each sentence\n",
    "5. train the word2vec model\n",
    "6. use the model\n",
    "7. visualise the model\n"
   ]
  },
  {
   "cell_type": "markdown",
   "metadata": {},
   "source": [
    "### The text\n",
    "The data set we will use here is the text from Alice in Wonderland. This is freely available from http://www.gutenberg.org/. Gutenberg is a library of over 60,000 free eBooks and a great source of text if you want to start exploring NLP and text mining."
   ]
  },
  {
   "cell_type": "markdown",
   "metadata": {},
   "source": [
    "### The packages\n",
    "\n",
    "We will use use a variety of packages to demonstrate different aspects of cleaning and processing the text data:\n",
    "\n",
    "* re for stripping away some characters using regex\n",
    "* Gensim for simple processing, phrase detection and word2vec\n",
    "\n",
    "In addition we will use\n",
    "* matplotlib for plotting and visualising the embeddings\n",
    "* sklearn for tSNE\n"
   ]
  },
  {
   "cell_type": "code",
   "execution_count": 1,
   "metadata": {},
   "outputs": [],
   "source": [
    "import re\n",
    "import spacy\n",
    "\n",
    "from gensim.models.phrases import Phrases, Phraser\n",
    "from gensim.models import Word2Vec\n",
    "from gensim.utils import simple_preprocess\n",
    "from gensim.summarization.textcleaner import get_sentences\n",
    "\n",
    "import matplotlib\n",
    "import matplotlib.pyplot as plt\n",
    "import matplotlib.cm as cm\n",
    "% matplotlib inline\n",
    "\n",
    "from sklearn import cluster\n",
    "from sklearn import metrics\n",
    "from sklearn.manifold import TSNE\n",
    "import numpy as np"
   ]
  },
  {
   "cell_type": "markdown",
   "metadata": {},
   "source": [
    "## Lets load some data"
   ]
  },
  {
   "cell_type": "code",
   "execution_count": 2,
   "metadata": {},
   "outputs": [
    {
     "data": {
      "text/plain": [
       "['bplist00Ñ\\x01\\x02_\\x10\\x0fWebMainResourceÕ\\x03\\x04\\x05\\x06\\x07\\x08\\t\\n',\n",
       " '\\x0b\\x0c_\\x10\\x14WebResourceFrameName_\\x10\\x0fWebResourceData_\\x10\\x13WebResourceMIMEType_\\x10\\x1bWebResourceTextEncodingName^WebResourceURLPO\\x12\\x00\\x02¥³<html><head></head><body><pre style=\"word-wrap: break-word; white-space: pre-wrap;\">Project Gutenberg\\'s Alice\\'s Adventures in Wonderland, by Lewis Carroll\\n',\n",
       " '\\n',\n",
       " 'This eBook is for the use of anyone anywhere at no cost and with\\n',\n",
       " 'almost no restrictions whatsoever.  You may copy it, give it away or\\n',\n",
       " 're-use it under the terms of the Project Gutenberg License included\\n',\n",
       " 'with this eBook or online at www.gutenberg.net\\n',\n",
       " '\\n',\n",
       " '\\n',\n",
       " \"Title: Alice's Adventures in Wonderland\\n\",\n",
       " '       Illustrated by Arthur Rackham. With a Proem by Austin Dobson\\n',\n",
       " '\\n',\n",
       " 'Author: Lewis Carroll\\n',\n",
       " '\\n',\n",
       " 'Illustrator: Arthur Rackham\\n',\n",
       " '\\n',\n",
       " 'Release Date: May 19, 2009 [EBook #28885]\\n',\n",
       " '\\n',\n",
       " 'Language: English\\n',\n",
       " '\\n',\n",
       " '\\n',\n",
       " \"*** START OF THIS PROJECT GUTENBERG EBOOK ALICE'S ADVENTURES IN WONDERLAND ***\\n\",\n",
       " '\\n',\n",
       " '\\n',\n",
       " '\\n',\n",
       " '\\n',\n",
       " 'Produced by Jana Srna, Emmy and the Online Distributed\\n',\n",
       " 'Proofreading Team at http://www.pgdp.net (This file was\\n',\n",
       " 'produced from images generously made available by the\\n',\n",
       " 'University of Florida Digital Collections.)\\n',\n",
       " '\\n',\n",
       " '\\n',\n",
       " '\\n',\n",
       " '\\n',\n",
       " '\\n',\n",
       " '\\n',\n",
       " '\\n',\n",
       " '\\n',\n",
       " '\\n',\n",
       " '\\n',\n",
       " '\\n',\n",
       " \"ALICE'S ADVENTURES IN WONDERLAND\\n\",\n",
       " '\\n',\n",
       " '[Illustration: \"Alice\"]\\n',\n",
       " '\\n',\n",
       " '[Illustration:\\n',\n",
       " '\\n',\n",
       " \"          ALICE'SÂ·ADVENTURES\\n\",\n",
       " '          INÂ·WONDERLAND\\n',\n",
       " '          BYÂ·LEWISÂ·CARROLL\\n',\n",
       " '          ILLUSTRATEDÂ·BY\\n',\n",
       " '          ARTHURÂ·RACKHAM\\n',\n",
       " '\\n',\n",
       " '          WITH A PROEM BY AUSTIN DOBSON\\n',\n",
       " '\\n',\n",
       " '          LONDONÂ·WILLIAMÂ·HEINEMANN\\n',\n",
       " '          NEWÂ·YORKÂ·DOUBLEDAYÂ·PAGEÂ·&amp;Â·Co]\\n',\n",
       " '\\n',\n",
       " '          PRINTED IN ENGLAND\\n',\n",
       " '\\n',\n",
       " \"          _'Tis two score years since CARROLL'S art,\\n\",\n",
       " '             With topsy-turvy magic,\\n',\n",
       " '           Sent ALICE wondering through a part\\n',\n",
       " '             Half-comic and half-tragic._\\n',\n",
       " '\\n',\n",
       " '          _Enchanting ALICE! Black-and-white\\n',\n",
       " '             Has made your deeds perennial;\\n',\n",
       " '           And naught save \"Chaos and old Night\"\\n',\n",
       " '             Can part you now from TENNIEL;_\\n',\n",
       " '\\n',\n",
       " '          _But still you are a Type, and based\\n',\n",
       " '             In Truth, like LEAR and HAMLET;\\n',\n",
       " '           And Types may be re-draped to taste\\n',\n",
       " '             In cloth-of-gold or camlet._\\n',\n",
       " '\\n',\n",
       " '          _Here comes afresh Costumier, then;\\n',\n",
       " '             That Taste may gain a wrinkle\\n',\n",
       " '           From him who drew with such deft pen\\n',\n",
       " '             The rags of RIP VAN WINKLE!_\\n',\n",
       " '\\n',\n",
       " '                                   _AUSTIN DOBSON._\\n',\n",
       " '\\n',\n",
       " '\\n',\n",
       " '\\n',\n",
       " '          All in the golden afternoon\\n',\n",
       " '            Full leisurely we glide;\\n',\n",
       " '          For both our oars, with little skill,\\n',\n",
       " '            By little arms are plied,\\n',\n",
       " '          While little hands make vain pretence\\n',\n",
       " '            Our wanderings to guide.\\n',\n",
       " '\\n',\n",
       " '          Ah, cruel Three! In such an hour,\\n',\n",
       " '            Beneath such dreamy weather,\\n',\n",
       " '          To beg a tale of breath too weak\\n',\n",
       " '            To stir the tiniest feather!\\n',\n",
       " '          Yet what can one poor voice avail\\n',\n",
       " '            Against three tongues together?\\n',\n",
       " '\\n',\n",
       " '          Imperious Prima flashes forth\\n',\n",
       " '            Her edict \"to begin it\"--\\n',\n",
       " '          In gentler tone Secunda hopes\\n',\n",
       " '            \"There will be nonsense in it!\"--\\n',\n",
       " '          While Tertia interrupts the tale\\n',\n",
       " '            Not _more_ than once a minute.\\n',\n",
       " '\\n',\n",
       " '          Anon, to sudden silence won,\\n',\n",
       " '            In fancy they pursue\\n',\n",
       " '          The dream-child moving through a land\\n',\n",
       " '            Of wonders wild and new,\\n',\n",
       " '          In friendly chat with bird or beast--\\n',\n",
       " '            And half believe it true.\\n',\n",
       " '\\n',\n",
       " '          And ever, as the story drained\\n',\n",
       " '            The wells of fancy dry.\\n',\n",
       " '          And faintly strove that weary one\\n',\n",
       " '            To put the subject by,\\n',\n",
       " '          \"The rest next time--\" \"It _is_ next time!\"\\n',\n",
       " '            The happy voices cry.\\n',\n",
       " '\\n',\n",
       " '          Thus grew the tale of Wonderland:\\n',\n",
       " '            Thus slowly, one by one,\\n',\n",
       " '          Its quaint events were hammered out--\\n',\n",
       " '            And now the tale is done,\\n',\n",
       " '          And home we steer, a merry crew,\\n',\n",
       " '            Beneath the setting sun.\\n',\n",
       " '\\n',\n",
       " '          Alice! a childish story take,\\n',\n",
       " '            And with a gentle hand\\n',\n",
       " \"          Lay it where Childhood's dreams are twined\\n\",\n",
       " \"            In Memory's mystic band,\\n\",\n",
       " \"          Like pilgrim's wither'd wreath of flowers\\n\",\n",
       " \"            Pluck'd in a far-off land.\\n\",\n",
       " '\\n',\n",
       " '\\n',\n",
       " '\\n',\n",
       " '\\n',\n",
       " 'CONTENTS\\n',\n",
       " '\\n',\n",
       " '\\n',\n",
       " '                                                      PAGE\\n',\n",
       " '\\n',\n",
       " '             I. DOWN THE RABBIT-HOLE                     1\\n',\n",
       " '\\n',\n",
       " '            II. THE POOL OF TEARS                       13\\n',\n",
       " '\\n',\n",
       " '           III. A CAUCUS-RACE AND A LONG TALE           24\\n',\n",
       " '\\n',\n",
       " '            IV. THE RABBIT SENDS IN A LITTLE BILL       35\\n',\n",
       " '\\n',\n",
       " '             V. ADVICE FROM A CATERPILLAR               49\\n']"
      ]
     },
     "execution_count": 2,
     "metadata": {},
     "output_type": "execute_result"
    }
   ],
   "source": [
    "with open(\"pg28885.txt\", encoding='latin-1') as f:\n",
    "    alice_raw_text = f.readlines()\n",
    "    \n",
    "# View the first 150 rows to access quality  \n",
    "alice_raw_text[:150]    "
   ]
  },
  {
   "cell_type": "markdown",
   "metadata": {},
   "source": [
    "The data is one long file, with preamble, table of contents and post licence information. It is useful to split the text into chapters and remove anything other than the book text."
   ]
  },
  {
   "cell_type": "code",
   "execution_count": 3,
   "metadata": {
    "scrolled": true
   },
   "outputs": [
    {
     "name": "stdout",
     "output_type": "stream",
     "text": [
      " I\n",
      "\n",
      "\n",
      "[Sidenote: _Dow\n",
      " II\n",
      "\n",
      "\n",
      "[Sidenote: _Po\n",
      " III\n",
      "\n",
      "\n",
      "[Sidenote: _A\n",
      " IV\n",
      "\n",
      "\n",
      "[Sidenote: _Th\n",
      " V\n",
      "\n",
      "\n",
      "[Sidenote: _Adv\n",
      " VI\n",
      "\n",
      "\n",
      "[Sidenote: _Pi\n",
      " VII\n",
      "\n",
      "\n",
      "[Sidenote: _A\n",
      " VIII\n",
      "\n",
      "\n",
      "[Sidenote: _\n",
      " IX\n",
      "\n",
      "\n",
      "[Sidenote: _Th\n",
      " X\n",
      "\n",
      "\n",
      "[Sidenote: _The\n",
      " XI\n",
      "\n",
      "\n",
      "[Sidenote: _Wh\n",
      " XII\n",
      "\n",
      "\n",
      "[Sidenote: _A\n"
     ]
    }
   ],
   "source": [
    "# Split into chapters - each chapter has is indicated by the text CHAPTER\n",
    "chapters = ''.join(alice_raw_text).split('CHAPTER')\n",
    "\n",
    "# We dont want the first preamble and table of contents\n",
    "chapters.pop(0)\n",
    "\n",
    "# Split the last chapter by 'The End' so we can remove all end liscencing info\n",
    "n = len(chapters)-1\n",
    "end = chapters[n].split(\"THE END\")\n",
    "\n",
    "chapters[n] = end[0]\n",
    "\n",
    "# Lets view the forst 20 characters for each chapter\n",
    "for m in chapters:\n",
    "    print(m[:20])\n"
   ]
  },
  {
   "cell_type": "markdown",
   "metadata": {},
   "source": [
    "## Preprocessing\n",
    "We need to do some pre-processing for the text. Lets keep it simple for this example:\n",
    "\n",
    "1. Initial cleaning of strings\n",
    "2. Remove all punctuation and convert to lowercase\n",
    "3. Lemmatise\n",
    "\n",
    "\n",
    "Pre-processing is dependent on your data and should be refined on each application. fpor example you may want to remove any emails using:\n",
    "\n",
    "data = [re.sub('\\S*@\\S*\\s?', '', sent) for sent in data]\n",
    "\n",
    "or use some of the very useful tagging in spaCy, e.g.,  isUrl or isEmail properties https://spacy.io/api/token"
   ]
  },
  {
   "cell_type": "code",
   "execution_count": 4,
   "metadata": {},
   "outputs": [
    {
     "name": "stdout",
     "output_type": "stream",
     "text": [
      "CHAPTER text:  ALICE was beginning to get very tired of sitting \n",
      "CHAPTER text:  \"CURIOUSER and curiouser!\" cried Alice (she was s\n",
      "CHAPTER text:  THEY were indeed a queer-looking party that assem\n",
      "CHAPTER text:  IT was the White Rabbit, trotting slowly back aga\n",
      "CHAPTER text:  THE Caterpillar and Alice looked at each other fo\n",
      "CHAPTER text:  FOR a minute or two she stood looking at the hous\n",
      "CHAPTER text:  THERE was a table set out under a tree in front o\n",
      "CHAPTER text:  A LARGE rose-tree stood near the entrance of the \n",
      "CHAPTER text:  \"YOU can't think how glad I am to see you again, \n",
      "CHAPTER text:  THE Mock Turtle sighed deeply, and drew the back \n",
      "CHAPTER text:  THE King and Queen of Hearts were seated on their\n",
      "CHAPTER text:  \"HERE!\" cried Alice, quite forgetting in the flur\n"
     ]
    }
   ],
   "source": [
    "# Convert to list\n",
    "data = chapters\n",
    "\n",
    "# Remove first line in each chapter (the chapter number)\n",
    "data = [re.sub(r\"^.*\\n\", \"\", sent) for sent in data]\n",
    "\n",
    "# Remove chapters titles/illustraions/sidenotes - these are of the form \"[text]\"\n",
    "data = [re.sub(\"[\\[].*?[\\]]\", \" \", sent) for sent in data]\n",
    "\n",
    "# Remove new line characters\n",
    "data = [re.sub('\\s+', ' ', sent) for sent in data]\n",
    "\n",
    "# Remove the ***** text lines in the text\n",
    "data = [re.sub(\"\\*\", \"\", sent) for sent in data]\n",
    "\n",
    "# Remove the _ characters in the text\n",
    "data = [re.sub(\"_\", \" \", sent) for sent in data]\n",
    "\n",
    "# Lets look at how the text now looks\n",
    "for m in data:\n",
    "    print(\"CHAPTER text: %s\" % m[:50])"
   ]
  },
  {
   "cell_type": "markdown",
   "metadata": {},
   "source": [
    "### A list of tokenised sentences\n",
    "\n",
    "Gensim word2vec is designed to take your text as a list of tokenised sentences. However you can pass the whole document as a tokenised list - if you have a lot of data it wont make too much difference. But each application is different and may depend on not taking words from neighbouring sentences.\n",
    "\n",
    "For this example, lets split each chapter into sentences ready to create a list of tokensied sentences."
   ]
  },
  {
   "cell_type": "code",
   "execution_count": 5,
   "metadata": {},
   "outputs": [
    {
     "data": {
      "text/plain": [
       "['ALICE was beginning to get very tired of sitting by her sister on the bank, and of having nothing to do: once or twice she had peeped into the book her sister was reading, but it had no pictures or conversations in it, \"and what is the use of a book,\" thought Alice, \"without pictures or conversations?\" So she was considering in her own mind (as well as she could, for the hot day made her feel very sleepy and stupid) whether the pleasure of making a daisy-chain would be worth the trouble of getting up and picking the daisies, when suddenly a White Rabbit with pink eyes ran close by her.',\n",
       " 'There was nothing so  very  remarkable in that; nor did Alice think it so  very  much out of the way to hear the Rabbit say to itself, \"Oh dear!',\n",
       " 'Oh dear!',\n",
       " 'I shall be too late!\" (when she thought it over afterwards, it occurred to her that she ought to have wondered at this, but at the time it all seemed quite natural); but when the Rabbit actually  took a watch out of its waistcoat-pocket , and looked at it, and then hurried on, Alice started to her feet, for it flashed across her mind that she had never before seen a rabbit with either a waistcoat-pocket, or a watch to take out of it, and burning with curiosity, she ran across the field after it, and was just in time to see it pop down a large rabbit-hole under the hedge.',\n",
       " 'In another moment down went Alice after it, never once considering how in the world she was to get out again.']"
      ]
     },
     "execution_count": 5,
     "metadata": {},
     "output_type": "execute_result"
    }
   ],
   "source": [
    "def doc_to_sentences(docs):\n",
    "    for doc in docs:\n",
    "        yield get_sentences(doc)\n",
    "\n",
    "chapter_sentences = list(doc_to_sentences(data))\n",
    "\n",
    "# lets view the first 5 sentences of chapter 1\n",
    "list(chapter_sentences[0])[:5]"
   ]
  },
  {
   "cell_type": "markdown",
   "metadata": {},
   "source": [
    "We no longer want the sentences per chapter - word2vec just wants a list of sentences. So lets flatten the chapter list"
   ]
  },
  {
   "cell_type": "code",
   "execution_count": 6,
   "metadata": {},
   "outputs": [
    {
     "data": {
      "text/plain": [
       "['\"CURIOUSER and curiouser!\" cried Alice (she was so much surprised, that for a moment she quite forgot how to speak good English); \"now I\\'m opening out like the largest telescope that ever was!',\n",
       " 'Good-bye, feet!\" (for when she looked down at her feet, they seemed to be almost out of sight, they were getting so far off).',\n",
       " '\"Oh, my poor little feet, I wonder who will put on your shoes and stockings for you now, dears?',\n",
       " \"I'm sure  I  sha'n't be able!\",\n",
       " 'I shall be a great deal too far off to trouble myself about you: you must manage the best way you can--but I must be kind to them,\" thought Alice, \"or perhaps they won\\'t walk the way I want to go!']"
      ]
     },
     "execution_count": 6,
     "metadata": {},
     "output_type": "execute_result"
    }
   ],
   "source": [
    "sentences = list([item for chapter in chapter_sentences for item in chapter])\n",
    "sentences[:5]"
   ]
  },
  {
   "cell_type": "markdown",
   "metadata": {},
   "source": [
    "### Lets perform some simple preprocessing - we can use the build in pipeline in Gensim for this, although you can build your own.\n",
    "\n",
    "There are lots of pre-processing tasks that we could perform - for example removing stopwords, standardining terms/acroymns (e.g., US, USA, the States -> USA) and identifying bigram and trigrams - but are these necessary?! \n",
    "\n",
    "#### Think of the pros and cons.\n",
    "\n",
    "* Do stopwords add noise? Does removing them remove context?\n",
    "* Does identifying common phrases help enrich the model? is your corpus big enough to identify them?\n",
    "\n",
    "It all depends on what kind of experiment you are running and how you want to represent your documents. You can vector-ize your documents in different ways, depending on ther size of your corpus and context."
   ]
  },
  {
   "cell_type": "code",
   "execution_count": 7,
   "metadata": {},
   "outputs": [
    {
     "name": "stdout",
     "output_type": "stream",
     "text": [
      "['curiouser', 'and', 'curiouser', 'cried', 'alice', 'she', 'was', 'so', 'much', 'surprised', 'that', 'for', 'moment', 'she', 'quite', 'forgot', 'how', 'to', 'speak', 'good', 'english', 'now', 'opening', 'out', 'like', 'the', 'largest', 'telescope', 'that', 'ever', 'was']\n"
     ]
    }
   ],
   "source": [
    "def sentence_to_words(sentences):\n",
    "    for sentence in sentences:\n",
    "        yield(simple_preprocess(str(sentence), deacc=False))  # deacc=True removes punctuations\n",
    "\n",
    "tokensied_sentences = list(sentence_to_words(sentences))\n",
    "\n",
    "# Lets view the first 20 words in the first chapter\n",
    "print(tokensied_sentences[0])"
   ]
  },
  {
   "cell_type": "markdown",
   "metadata": {},
   "source": [
    "## Bigrams and trigrams\n",
    "There are a number of ways to identify phrases through a corpus. Here we show how to use the Phraser utility in Gensim. This lets you automatically detect phrases longer than one word. Using phrases, you can learn a word2vec model where “words” are actually multiword expressions, such as new_york_times or financial_crisis:\n",
    "\n",
    "Firstly create a Phrases object, initialised with the text and some settings to control the sensitivity .\n",
    "Then feed this to a Phraser object, which can be used to create bigrams. \n",
    "\n",
    "To get trigrams, just repeat the Phraser operation on the bigrams.\n",
    "https://web.stanford.edu/class/archive/cs/cs224n/cs224n.1174/reports/2761021.pdf"
   ]
  },
  {
   "cell_type": "code",
   "execution_count": 8,
   "metadata": {},
   "outputs": [],
   "source": [
    "bigram_phrases = Phrases(tokensied_sentences, min_count=2, threshold=1)\n",
    "bigram = Phraser(bigram_phrases)\n",
    "\n",
    "trigram_phrases = Phrases(bigram[tokensied_sentences], min_count=1, threshold=1, delimiter=b'_')\n",
    "trigram = Phraser(trigram_phrases)"
   ]
  },
  {
   "cell_type": "markdown",
   "metadata": {},
   "source": [
    "Lets create some fucntions to help with our pipleine. We utilise spaCy for Lemmatisation and removal of some words, but you could also use NLTK."
   ]
  },
  {
   "cell_type": "code",
   "execution_count": 9,
   "metadata": {},
   "outputs": [],
   "source": [
    "# Define functions for stopwords, bigrams, trigrams and lemmatization\n",
    "\n",
    "# Gensim simple processing pipleine - lowercase and tokensises \n",
    "def simple_preprocessing(texts):\n",
    "    return [[word for word in simple_preprocess(str(doc))] for doc in texts]\n",
    "\n",
    "def make_bigrams(texts):\n",
    "    return [bigram[doc] for doc in texts]\n",
    "\n",
    "def make_trigrams(texts):\n",
    "    return [trigram[doc] for doc in texts]\n",
    "\n",
    "def lemmatization(texts, allowed_postags=['NOUN', 'ADJ', 'VERB', 'ADV']):\n",
    "    \"\"\"\n",
    "    use spaCy lemmatisation - allowing through Nouns, Adjectives, Verbs and adverbs only\n",
    "    \n",
    "    https://spacy.io/api/annotation\n",
    "    \"\"\"\n",
    "    texts_out = []\n",
    "    for sent in texts:\n",
    "        doc = nlp(\" \".join(sent)) \n",
    "        texts_out.append([token.lemma_ for token in doc if token.pos_ in allowed_postags and token.lemma_ != '-PRON-'])\n",
    "    return texts_out"
   ]
  },
  {
   "cell_type": "markdown",
   "metadata": {},
   "source": [
    "### Preprocessing pipeline\n",
    "\n",
    "We are now in position to create a pipeline to prepare the text, adding or ommitting steps as required.\n",
    "Here we will remove stopwords, lemmatize create bigrams and trigrams.\n",
    "\n",
    "-> Do you think the order of the processing matters?\n",
    "\n",
    "-> Why would you add custom stopwords?\n",
    "\n",
    "-> What is the effect of some preprocessing on the CBOW/skip gram models? \n",
    "\n",
    "-> Should you remove punctuation??\n",
    "\n",
    "Remember that word2vec is not just a vector representing a word, but a vector representing a word and its surrounding words. "
   ]
  },
  {
   "cell_type": "code",
   "execution_count": 10,
   "metadata": {},
   "outputs": [
    {
     "name": "stdout",
     "output_type": "stream",
     "text": [
      "['curiouser', 'curiouser', 'cry', 'alice', 'be_so', 'much', 'surprised', 'moment', 'quite', 'forget', 'how', 'speak', 'good', 'english', 'now', 'open', 'large', 'telescope', 'that', 'ever', 'be']\n",
      "['shall_be', 'great_deal', 'too_far', 'trouble', 'must', 'manage', 'good', 'way', 'can', 'must_be', 'kind', 'think', 'alice', 'perhaps', 'win', 'walk', 'way', 'want', 'go']\n"
     ]
    }
   ],
   "source": [
    "# Simple Genism processing \n",
    "\n",
    "tokens_preprocessed = simple_preprocessing(tokensied_sentences)\n",
    "\n",
    "# Initialize spacy 'en' model, keeping only tagger component (for efficiency)\n",
    "# python3 -m spacy download en\n",
    "nlp = spacy.load('en', disable=['parser', 'ner'])\n",
    "\n",
    "# Do lemmatization keeping only noun, adj, vb, adv\n",
    "tokens_lemmatized = lemmatization(tokens_preprocessed, allowed_postags=['NOUN', 'ADJ', 'VERB', 'ADV'])\n",
    "\n",
    "# Form Bigrams\n",
    "tokens_bigrams = make_bigrams(tokens_lemmatized)\n",
    "\n",
    "# Form Trigrams\n",
    "tokens_trigrams = make_trigrams(tokens_bigrams)\n",
    "\n",
    "data_processed = tokens_trigrams\n",
    "\n",
    "#  lets look at the first and fifth sentences\n",
    "print(data_processed[0])\n",
    "print(data_processed[4])\n"
   ]
  },
  {
   "cell_type": "markdown",
   "metadata": {},
   "source": [
    "### Gensim Word2vec\n",
    "\n",
    "We use Gensim implementation of word2vec: https://radimrehurek.com/gensim/models/word2vec.html\n",
    "\n",
    "We are using a simple list of lists of tokens, but for larger corpora it is better to use an iterable that streams the sentences directly from disk/network.\n",
    "\n",
    "There are many parameters on this constructor; a few noteworthy arguments you may wish to configure are:\n",
    "\n",
    "* size: (default 100) The number of dimensions of the embedding, e.g. the length of the dense vector to represent each token (word).\n",
    "* window: (default 5) The maximum distance between a target word and words around the target word.\n",
    "* min_count: (default 5) The minimum count of words to consider when training the model; words with an occurrence less than this count will be ignored.\n",
    "* workers: (default 3) The number of threads to use while training.\n",
    "* sg: (default 0 or CBOW) The training algorithm, either CBOW (0) or skip gram (1).\n",
    "\n",
    "The defaults are often good enough when just getting started."
   ]
  },
  {
   "cell_type": "code",
   "execution_count": 11,
   "metadata": {},
   "outputs": [],
   "source": [
    "# Initialise the model - CBOW \n",
    "w2v_model = Word2Vec(min_count=1,\n",
    "                     window=5,\n",
    "                     size=300)"
   ]
  },
  {
   "cell_type": "code",
   "execution_count": 12,
   "metadata": {},
   "outputs": [],
   "source": [
    "# Build the vocab\n",
    "w2v_model.build_vocab(data_processed, progress_per=10000)"
   ]
  },
  {
   "cell_type": "code",
   "execution_count": 13,
   "metadata": {},
   "outputs": [
    {
     "data": {
      "text/plain": [
       "(314524, 387180)"
      ]
     },
     "execution_count": 13,
     "metadata": {},
     "output_type": "execute_result"
    }
   ],
   "source": [
    "# Train the model\n",
    "w2v_model.train(data_processed, total_examples=w2v_model.corpus_count, epochs=30, report_delay=1)"
   ]
  },
  {
   "cell_type": "code",
   "execution_count": 14,
   "metadata": {},
   "outputs": [],
   "source": [
    "# Normalise the Word2vec vectors, needed for soem similarity measures\n",
    "w2v_model.init_sims(replace=True)"
   ]
  },
  {
   "cell_type": "markdown",
   "metadata": {},
   "source": [
    "### Exploring the vocab"
   ]
  },
  {
   "cell_type": "code",
   "execution_count": 15,
   "metadata": {},
   "outputs": [
    {
     "name": "stdout",
     "output_type": "stream",
     "text": [
      "Vocal length 2057\n",
      "Examples: ['curiouser', 'cry', 'alice', 'be_so', 'much', 'surprised', 'moment', 'quite', 'forget', 'how', 'speak', 'good', 'english', 'now', 'open', 'large', 'telescope', 'that', 'ever', 'be', 'foot', 'when', 'look', 'seem', 'almost', 'sight', 'get', 'so_far', 'poor_little', 'wonder', 'who', 'will', 'put', 'shoe', 'stocking', 'dear', 'sure', 'sha', 'able', 'shall_be', 'great_deal', 'too_far', 'trouble', 'must', 'manage', 'way', 'can', 'must_be', 'kind', 'think', 'perhaps', 'win', 'walk', 'want', 'go', 'let', 'see', 'give', 'new', 'pair', 'boot', 'christma', 'plan', 'would', 'must_go', 'carrier', 'funny', 'send', 'present', 'own', 'odd', 'direction', 'right', 'esq', 'hearthrug', 'fender', 'love', 'what', 'nonsense', 'talk', 'just_then', 'head', 'strike', 'roof', 'hall', 'fact', 'rather', 'more', 'high', 'once', 'take', 'little_golden', 'key', 'hurry', 'garden', 'door', 'poor_alice', 'as_much', 'could_do', 'lie']\n"
     ]
    }
   ],
   "source": [
    "vocab = list(w2v_model.wv.vocab)\n",
    "print (\"Vocal length %d\" % len(vocab))\n",
    "print('Examples: %s' % vocab[:100])"
   ]
  },
  {
   "cell_type": "markdown",
   "metadata": {},
   "source": [
    "### Lets look at how we can use the model \n",
    "Firstly lets look at some of the built in tools within Gensim. \n",
    "\n",
    "You can find out more at \n",
    "https://tedboy.github.io/nlps/generated/generated/gensim.models.Word2Vec.html"
   ]
  },
  {
   "cell_type": "code",
   "execution_count": 26,
   "metadata": {},
   "outputs": [
    {
     "data": {
      "text/plain": [
       "[('soldier', 0.9998766183853149),\n",
       " ('off', 0.9998666644096375),\n",
       " ('player', 0.9998610615730286),\n",
       " ('quarrel', 0.9998558759689331),\n",
       " ('hold', 0.9998525381088257),\n",
       " ('sentence', 0.9998487234115601),\n",
       " ('voice', 0.999847412109375),\n",
       " ('stop', 0.9998458623886108)]"
      ]
     },
     "execution_count": 26,
     "metadata": {},
     "output_type": "execute_result"
    }
   ],
   "source": [
    "w2v_model.wv.similar_by_word(\"queen\", topn=8)"
   ]
  },
  {
   "cell_type": "code",
   "execution_count": 29,
   "metadata": {},
   "outputs": [
    {
     "data": {
      "text/plain": [
       "[('treacle_well', 0.7397969365119934),\n",
       " ('worried', 0.24354715645313263),\n",
       " ('chrysalis', 0.1932539939880371),\n",
       " ('beau_ootiful_soo_oop', -0.045586973428726196),\n",
       " ('vegetable', -0.07261092215776443),\n",
       " ('whoever', -0.5047267079353333),\n",
       " ('impertinent', -0.7627514600753784),\n",
       " ('mournful', -0.9049735069274902),\n",
       " ('uncivil', -0.924044668674469),\n",
       " ('glass', -0.9445379972457886),\n",
       " ('hollow', -0.9490545392036438),\n",
       " ('calmly', -0.9557204246520996),\n",
       " ('sternly', -0.9581867456436157),\n",
       " ('curiosity', -0.9645081758499146),\n",
       " ('enormous', -0.9694520235061646)]"
      ]
     },
     "execution_count": 29,
     "metadata": {},
     "output_type": "execute_result"
    }
   ],
   "source": [
    "w2v_model.wv.most_similar(negative=[\"alice\"], topn=15)"
   ]
  },
  {
   "cell_type": "code",
   "execution_count": null,
   "metadata": {},
   "outputs": [],
   "source": [
    "w2v_model.wv.similar_by_word(\"queen\", topn=5)"
   ]
  },
  {
   "cell_type": "markdown",
   "metadata": {},
   "source": [
    "Lets see if Alice is more likley to be mentioned with the white rabbit than impertinent:"
   ]
  },
  {
   "cell_type": "code",
   "execution_count": 31,
   "metadata": {},
   "outputs": [
    {
     "data": {
      "text/plain": [
       "0.9997582423683735"
      ]
     },
     "execution_count": 31,
     "metadata": {},
     "output_type": "execute_result"
    }
   ],
   "source": [
    "w2v_model.wv.similarity('alice', 'white_rabbit')"
   ]
  },
  {
   "cell_type": "code",
   "execution_count": 32,
   "metadata": {},
   "outputs": [
    {
     "data": {
      "text/plain": [
       "0.7627514872240475"
      ]
     },
     "execution_count": 32,
     "metadata": {},
     "output_type": "execute_result"
    }
   ],
   "source": [
    "w2v_model.wv.similarity('alice', 'impertinent')"
   ]
  },
  {
   "cell_type": "markdown",
   "metadata": {},
   "source": [
    "### Visualising the Embeddings\n",
    "These embeddings are 300 dimensions. This is difficult to visualise. However there are techniques we can use to help.\n",
    "\n",
    "t-Distributed Stochastic Neighbor Embedding (t-SNE) is a technique for dimensionality reduction that is particularly well suited for the visualization of high-dimensional datasets. https://mlexplained.com/2018/09/14/paper-dissected-visualizing-data-using-t-sne-explained/\n",
    "\n",
    "Lets pick some words from the vocab and visualise the top 30 similar words to them. We will use the SKLearn t-SNE implementation to reduce the embedding to 2 and 3 dimensionand and plot with matplotlib."
   ]
  },
  {
   "cell_type": "code",
   "execution_count": 33,
   "metadata": {},
   "outputs": [],
   "source": [
    "keys = ['alice', 'queen', 'caterpillar']\n",
    "\n",
    "embedding_clusters = []\n",
    "word_clusters = []\n",
    "for word in keys:\n",
    "    embeddings = []\n",
    "    words = []\n",
    "    for similar_word, _ in w2v_model.wv.most_similar(word, topn=30):\n",
    "        words.append(similar_word)\n",
    "        embeddings.append(w2v_model.wv[similar_word])\n",
    "    embedding_clusters.append(embeddings)\n",
    "    word_clusters.append(words)"
   ]
  },
  {
   "cell_type": "code",
   "execution_count": 34,
   "metadata": {},
   "outputs": [],
   "source": [
    "embedding_clusters = np.array(embedding_clusters)\n",
    "n, m, k = embedding_clusters.shape\n",
    "tsne_model_en_2d = TSNE(perplexity=5, n_components=2, init='pca', n_iter=3500, random_state=32)\n",
    "embeddings_en_2d = np.array(tsne_model_en_2d.fit_transform(embedding_clusters.reshape(n * m, k))).reshape(n, m, 2)\n"
   ]
  },
  {
   "cell_type": "code",
   "execution_count": 35,
   "metadata": {},
   "outputs": [
    {
     "data": {
      "image/png": "[encoded data removed]",
      "text/plain": [
       "<Figure size 1152x648 with 1 Axes>"
      ]
     },
     "metadata": {},
     "output_type": "display_data"
    }
   ],
   "source": [
    "def tsne_plot_similar_words(title, labels, embedding_clusters, word_clusters, a, filename=None):\n",
    "    plt.figure(figsize=(16, 9))\n",
    "    colors = cm.rainbow(np.linspace(0, 1, len(labels)))\n",
    "    for label, embeddings, words, color in zip(labels, embedding_clusters, word_clusters, colors):\n",
    "        x = embeddings[:, 0]\n",
    "        y = embeddings[:, 1]\n",
    "        plt.scatter(x, y, c=[color], alpha=a, label=label)\n",
    "        for i, word in enumerate(words):\n",
    "            plt.annotate(word, alpha=0.5, xy=(x[i], y[i]), xytext=(5, 2),\n",
    "                         textcoords='offset points', ha='right', va='bottom', size=8)\n",
    "            \n",
    "    plt.legend(loc=4)\n",
    "    plt.title(title)\n",
    "    plt.grid(True)\n",
    "    if filename:\n",
    "        plt.savefig(filename, format='png', dpi=150, bbox_inches='tight')\n",
    "    plt.show()\n",
    "\n",
    "\n",
    "tsne_plot_similar_words('Similar words from Alice in Wonderland', keys, embeddings_en_2d, word_clusters, 0.7,\n",
    "                        'similar_words.png')"
   ]
  },
  {
   "cell_type": "markdown",
   "metadata": {},
   "source": [
    "### Viewing the embedding in 3D"
   ]
  },
  {
   "cell_type": "code",
   "execution_count": 37,
   "metadata": {},
   "outputs": [],
   "source": [
    "words_sw = []\n",
    "embeddings_sw = []\n",
    "for word in list(w2v_model.wv.vocab):\n",
    "    embeddings_sw.append(w2v_model.wv[word])\n",
    "    words_sw.append(word)"
   ]
  },
  {
   "cell_type": "code",
   "execution_count": 38,
   "metadata": {},
   "outputs": [],
   "source": [
    "tsne_wp_3d = TSNE(perplexity=30, n_components=3, init='pca', n_iter=3500, random_state=12)\n",
    "embeddings_wp_3d = tsne_wp_3d.fit_transform(embeddings_sw)"
   ]
  },
  {
   "cell_type": "code",
   "execution_count": null,
   "metadata": {},
   "outputs": [],
   "source": [
    "from mpl_toolkits.mplot3d import Axes3D\n",
    "%config InlineBackend.print_figure_kwargs = {'bbox_inches':None}\n",
    "matplotlib.rcParams['figure.figsize'] = (20, 16)\n",
    "matplotlib.rcParams['figure.dpi'] = 200\n",
    "\n",
    "def tsne_plot_3d(title, label, embeddings, a=1):\n",
    "    fig = plt.figure()\n",
    "    ax = Axes3D(fig)\n",
    "    colors = cm.rainbow(np.linspace(0, 1, 1))\n",
    "    plt.scatter(xs=embeddings[:, 0], \n",
    "                ys=embeddings[:, 1], \n",
    "                zs=embeddings[:, 2], \n",
    "                c=colors, \n",
    "                alpha=a, \n",
    "                label=label)\n",
    "    plt.legend(loc=4)\n",
    "    plt.title(title)\n",
    "    plt.show()\n",
    "\n",
    "def tsne_plot_3d2(title, embeddings, a=1): \n",
    "    ax = plt.axes(projection='3d')\n",
    "    colors = cm.rainbow(np.linspace(0, 1, 1))\n",
    "    ax.scatter3D(embeddings[:, 0], \n",
    "                 embeddings[:, 1], \n",
    "                 embeddings[:, 2], \n",
    "                 c=colors)\n",
    "    plt.title(title)\n",
    "    plt.show()\n",
    "\n",
    "tsne_plot_3d2('Visualizing Embeddings using t-SNE - Alice in Wonderland', embeddings_wp_3d, a=0.1)"
   ]
  },
  {
   "cell_type": "markdown",
   "metadata": {},
   "source": [
    "### Applications \n",
    "\n",
    "Once the model is trained there are many applications. A common forst step os to use k-means clustering to understand any themes or topis that are within the text. Different applications include:\n",
    "\n",
    "* Sentiment Analysis\n",
    "* Speech Recognition\n",
    "* Information Retrieval\n",
    "* Question Answering\n",
    "\n",
    "### Out of vacab words and pre-trained models\n",
    "\n",
    "But what happes if you try and compare similarity between two words when the word2vec model hasnt seen that word before? How can we overcome this?\n",
    "\n",
    "Pretrained models are available. These are big models and took a huge ammount of effort to train - so there is an advantage that you can download and just start using them. You can immediately inject knowledge from a larger corpus than you might have access to with a smaller dataset: Google's word2vec model has a vocabulary of 3 million words and phrases trained on the google news dataset comprising ~100 billion tokens, and there's no cost to you in training time. \n",
    "\n",
    "Compare that to the relatively small book we have used here (~2000 trained words)! However if you have a specilaised corpus (e.g., legal, medical) then it may not capture required knowledge to get meaningful results and you are more likley to get out of vocab results."
   ]
  },
  {
   "cell_type": "markdown",
   "metadata": {},
   "source": [
    "### Load Google’s Word2Vec Embedding\n",
    "Training your own word vectors may be the best approach for a given NLP problem. But it can take a long time, a fast computer with a lot of RAM and disk space, and perhaps some expertise in finessing the input data and training algorithm. An alternative is to simply use an existing pre-trained word embedding.\n",
    "\n",
    "Along with the paper and code for word2vec, Google also published a pre-trained word2vec model on the Word2Vec Google Code Project.\n",
    "\n",
    "It is a 1.53 Gigabytes file that you can download from here:\n",
    "[GoogleNews-vectors-negative300.bin.gz](https://drive.google.com/file/d/0B7XkCwpI5KDYNlNUTTlSS21pQmM/edit?usp=sharing)\n",
    "\n",
    "Unzipped, the binary file (GoogleNews-vectors-negative300.bin) is 3.4 Gigabytes.\n",
    "\n",
    "The Gensim library provides tools to load this file. Specifically, you can call the KeyedVectors.load_word2vec_format() function to load this model into memory.\n",
    "\n",
    "```python\n",
    "from gensim.models import KeyedVectors\n",
    "filename = 'GoogleNews-vectors-negative300.bin'\n",
    "pretrained_w2v_model = KeyedVectors.load_word2vec_format(filename, binary=True)\n",
    "```"
   ]
  },
  {
   "cell_type": "markdown",
   "metadata": {},
   "source": [
    "### Training FastText\n",
    "You can also train your own text with the FastText model using Gensim. It is very similar to the word2vec example: \n",
    "\n",
    "\n",
    "```python\n",
    "from gensim.models import FastText\n",
    "\n",
    "# Initialise the model - CBOW \n",
    "ft_model = FastText(min_count=1,window=5,size=300)\n",
    "# Build the vocab\n",
    "ft_model.build_vocab(sentences_processed, progress_per=10000)\n",
    "# Train the model\n",
    "w2v_model.train(data_processed, total_examples=w2v_model.corpus_count, epochs=30, report_delay=1)\n",
    "\n",
    "```\n",
    "\n",
    "A pretrained FastText model is also available and can be loaded into and used by Gensim.\n",
    "\n",
    "* For .bin use: load_fasttext_format() (this typically contains full model with parameters, ngrams, etc).\n",
    "\n",
    "* For .vec use: load_word2vec_format (this contains ONLY word-vectors -> no ngrams + you can't update an model).\n",
    "\n",
    "```python\n",
    "from gensim.models.wrappers import FastText\n",
    "\n",
    "pretrained_ft_model = FastText.load_fasttext_format('wiki.simple')\n",
    "\n",
    "```"
   ]
  },
  {
   "cell_type": "code",
   "execution_count": null,
   "metadata": {},
   "outputs": [],
   "source": []
  }
 ],
 "metadata": {
  "kernelspec": {
   "display_name": "Python 3",
   "language": "python",
   "name": "python3"
  },
  "language_info": {
   "codemirror_mode": {
    "name": "ipython",
    "version": 3
   },
   "file_extension": ".py",
   "mimetype": "text/x-python",
   "name": "python",
   "nbconvert_exporter": "python",
   "pygments_lexer": "ipython3",
   "version": "3.6.5"
  }
 },
 "nbformat": 4,
 "nbformat_minor": 2
}
